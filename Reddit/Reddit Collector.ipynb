{
 "cells": [
  {
   "cell_type": "code",
   "execution_count": 2,
   "metadata": {},
   "outputs": [
    {
     "name": "stdout",
     "output_type": "stream",
     "text": [
      "Requirement already satisfied: psaw in c:\\users\\parke\\anaconda3\\lib\\site-packages (0.0.12)\n",
      "Requirement already satisfied: requests in c:\\users\\parke\\anaconda3\\lib\\site-packages (from psaw) (2.21.0)\n",
      "Requirement already satisfied: Click in c:\\users\\parke\\anaconda3\\lib\\site-packages (from psaw) (7.0)\n",
      "Requirement already satisfied: chardet<3.1.0,>=3.0.2 in c:\\users\\parke\\anaconda3\\lib\\site-packages (from requests->psaw) (3.0.4)\n",
      "Requirement already satisfied: certifi>=2017.4.17 in c:\\users\\parke\\anaconda3\\lib\\site-packages (from requests->psaw) (2020.4.5.1)\n",
      "Requirement already satisfied: idna<2.9,>=2.5 in c:\\users\\parke\\anaconda3\\lib\\site-packages (from requests->psaw) (2.8)\n",
      "Requirement already satisfied: urllib3<1.25,>=1.21.1 in c:\\users\\parke\\anaconda3\\lib\\site-packages (from requests->psaw) (1.24.1)\n"
     ]
    }
   ],
   "source": [
    "# install psaw Pushshift extractor\n",
    "#import sys\n",
    "#!{sys.executable} -m pip install psaw"
   ]
  },
  {
   "cell_type": "code",
   "execution_count": 143,
   "metadata": {},
   "outputs": [],
   "source": [
    "from psaw import PushshiftAPI\n",
    "import pandas as pd\n",
    "\n",
    "api = PushshiftAPI()\n",
    "lst_csv = pd.read_csv(\"lst_auth.csv\")\n",
    "\n",
    "lst_auth = lst_csv['x'].tolist()\n",
    "lst=[]\n",
    "for f in lst_auth[100465:]:\n",
    "    gen = api.search_comments(author = f,\n",
    "    before = 1577750400,\n",
    "    after = 1480550400,\n",
    "    limit = 100)\n",
    "    lst.append(gen)\n",
    "\n",
    "results = []\n",
    "for i in range(len(lst)):\n",
    "    for c in lst[i]:\n",
    "        results.append(c)\n",
    "df = pd.DataFrame([r.d_ for r in results])\n",
    "df.to_csv('lst_auth_text.csv')\n"
   ]
  }
 ],
 "metadata": {
  "kernelspec": {
   "display_name": "Python 3",
   "language": "python",
   "name": "python3"
  },
  "language_info": {
   "codemirror_mode": {
    "name": "ipython",
    "version": 3
   },
   "file_extension": ".py",
   "mimetype": "text/x-python",
   "name": "python",
   "nbconvert_exporter": "python",
   "pygments_lexer": "ipython3",
   "version": "3.7.1"
  }
 },
 "nbformat": 4,
 "nbformat_minor": 2
}
